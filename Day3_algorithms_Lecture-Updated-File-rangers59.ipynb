{
 "cells": [
  {
   "cell_type": "markdown",
   "metadata": {},
   "source": [
    "# Algorithms, Binary Search & Linked Lists"
   ]
  },
  {
   "cell_type": "markdown",
   "metadata": {},
   "source": [
    "## Tasks Today:\n",
    " \n",
    "1) <b>In-Place Algorithms</b> <br>\n",
    " &nbsp;&nbsp;&nbsp;&nbsp; a) Syntax <br>\n",
    " &nbsp;&nbsp;&nbsp;&nbsp; a) Out of Place Algorithm <br>\n",
    " &nbsp;&nbsp;&nbsp;&nbsp; b) In-Class Exercise #1 <br>\n",
    "2) <b>Two Pointers</b> <br>\n",
    "3) <b>Linked Lists</b> <br>\n",
    "4) <b>Merge Sort</b> <br>\n",
    " &nbsp;&nbsp;&nbsp;&nbsp; a) Video on Algorithms <br>\n",
    " &nbsp;&nbsp;&nbsp;&nbsp; b) How it Works <br>\n",
    "5) <b>Exercises</b> <br>\n",
    " &nbsp;&nbsp;&nbsp;&nbsp; a) Exercise #1 - Reverse a List in Place Using an In-Place Algorithm <br>\n",
    " &nbsp;&nbsp;&nbsp;&nbsp; b) Exercise #2 - Find Distinct Words <br>\n",
    " &nbsp;&nbsp;&nbsp;&nbsp; c) Exercise #3 - Write a program to implement a Linear Search Algorithm. <br>"
   ]
  },
  {
   "cell_type": "markdown",
   "metadata": {},
   "source": [
    "## In-Place Algorithms"
   ]
  },
  {
   "cell_type": "markdown",
   "metadata": {},
   "source": [
    "#### Syntax"
   ]
  },
  {
   "cell_type": "code",
   "execution_count": 5,
   "metadata": {},
   "outputs": [
    {
     "name": "stdout",
     "output_type": "stream",
     "text": [
      " before swap [20, 4, 10]\n",
      " after swap [20, 10, 4]\n"
     ]
    }
   ],
   "source": [
    "#Swap algorithm\n",
    "#in place modifies the value directly/immeadietly\n",
    "def swap(a_list, x, y, z):\n",
    "    a_list[x],a_list[y],a_list[z]=a_list[z],a_list[y],a_list[x]\n",
    "    return a_list\n",
    "my_list=[20,4,10]\n",
    "print(f' before swap {my_list}')\n",
    "swap(my_list,2,0,1)\n",
    "# swap(my_list,0,1,2)\n",
    "print(f' after swap {my_list}')"
   ]
  },
  {
   "cell_type": "markdown",
   "metadata": {},
   "source": [
    "#### Out of Place Algorithm"
   ]
  },
  {
   "cell_type": "code",
   "execution_count": 10,
   "metadata": {},
   "outputs": [
    {
     "name": "stdout",
     "output_type": "stream",
     "text": [
      "[4, 10, 20]\n",
      "[20, 10, 4]\n",
      "Before ['a', 'b', 'c', 'd']\n",
      "After ['d', 'c', 'b', 'a']\n"
     ]
    }
   ],
   "source": [
    "#complete reverse, but also copies to another place in memory\n",
    "#out of place has some sort of 'middle man' (can still mod the original)\n",
    "\n",
    "my_list_copy=my_list[::-1]\n",
    "print(my_list_copy)\n",
    "print(my_list)\n",
    "\n",
    "array=['a','b','c','d']\n",
    "new_arr=['a'] * len(array)\n",
    "print(\"Before\", array)\n",
    "length=len(array)-1\n",
    "\n",
    "for i in range(length):\n",
    "    new_arr[i]=array[length-i]\n",
    "\n",
    "print(\"After\", new_arr)"
   ]
  },
  {
   "cell_type": "markdown",
   "metadata": {},
   "source": [
    "#### In-Class Exercise #1 <br>\n",
    "<p>Write a function that takes in four arguments (list, index1, index2, index3), and swaps those three positions in the list passed in.</p>"
   ]
  },
  {
   "cell_type": "code",
   "execution_count": 13,
   "metadata": {},
   "outputs": [
    {
     "name": "stdout",
     "output_type": "stream",
     "text": [
      "[10, 4, 4, 8, 6, 2, 3]\n"
     ]
    }
   ],
   "source": [
    "l_1 = [10, 4, 3, 8, 4, 2, 6]\n",
    "\n",
    "def swap(a_list, x, y, z):\n",
    "    a_list[x],a_list[y],a_list[z]=a_list[y],a_list[z],a_list[x]#the same as the swap function\n",
    "    #though the swap function really only changed 2 values\n",
    "#     a_list[x],a_list[y],a_list[z]=a_list[z],a_list[x],a_list[y] #The other direction\n",
    "    return a_list\n",
    "\n",
    "swap(l_1,2,4,6)\n",
    "print(l_1)\n"
   ]
  },
  {
   "cell_type": "markdown",
   "metadata": {},
   "source": [
    "## Two Pointers"
   ]
  },
  {
   "cell_type": "markdown",
   "metadata": {},
   "source": [
    "#### Syntax"
   ]
  },
  {
   "cell_type": "code",
   "execution_count": 14,
   "metadata": {},
   "outputs": [
    {
     "name": "stdout",
     "output_type": "stream",
     "text": [
      "[22, 11, 4, 8, 9, 12, 3, 2, 1]\n"
     ]
    }
   ],
   "source": [
    "#alist[left], alist[right] = alist[right], alist[left]\n",
    "\n",
    "def  twoPoint(alist):\n",
    "    left=0\n",
    "    right=len(alist)-1\n",
    "    while left<=right:\n",
    "        alist[left], alist[right] = alist[right], alist[left]\n",
    "        left+=1\n",
    "        right-=1\n",
    "    return alist\n",
    "\n",
    "my_list2= [1,2,3,12,9,8,4,11,22]\n",
    "print(twoPoint(my_list2))"
   ]
  },
  {
   "cell_type": "markdown",
   "metadata": {},
   "source": [
    "#### Video of Algorithms <br>\n",
    "<p>Watch the video about algorithms.</p>\n",
    "\n",
    "https://www.youtube.com/watch?v=Q9HjeFD62Uk\n",
    "\n",
    "https://www.youtube.com/watch?v=kPRA0W1kECg\n",
    "\n",
    "https://www.youtube.com/watch?v=ZZuD6iUe3Pc"
   ]
  },
  {
   "cell_type": "markdown",
   "metadata": {},
   "source": [
    "# Sorting Algorithms"
   ]
  },
  {
   "cell_type": "markdown",
   "metadata": {},
   "source": [
    "#### Bubble Sort\n",
    "\n",
    "Worst Case: O(n^2) Time - O(1) Space"
   ]
  },
  {
   "cell_type": "code",
   "execution_count": 16,
   "metadata": {},
   "outputs": [
    {
     "data": {
      "text/plain": [
       "[1, 22, 34, 44, 55, 66, 88, 100]"
      ]
     },
     "execution_count": 16,
     "metadata": {},
     "output_type": "execute_result"
    }
   ],
   "source": [
    "#best case: O(n) - linear\n",
    "\n",
    "def swap(i,j,array):\n",
    "    array[i],array[j]=array[j],array[i]\n",
    "    \n",
    "def bubbleSort(array):\n",
    "    isSort=False\n",
    "    while not isSort:\n",
    "        isSort=True\n",
    "        for num in range(len(array)-1):\n",
    "            if array[num]>array[num+1]:\n",
    "                swap(num,num+1,array)\n",
    "                isSort=False\n",
    "    return array\n",
    "\n",
    "bubbleSort([22,55,88,44,1,100,34,66])"
   ]
  },
  {
   "cell_type": "markdown",
   "metadata": {},
   "source": [
    "##### Insertion Sort\n",
    "\n",
    "Worst Case: O(n^2) time - O(1)space"
   ]
  },
  {
   "cell_type": "code",
   "execution_count": 18,
   "metadata": {},
   "outputs": [
    {
     "data": {
      "text/plain": [
       "[1, 22, 34, 44, 55, 66, 88, 100]"
      ]
     },
     "execution_count": 18,
     "metadata": {},
     "output_type": "execute_result"
    }
   ],
   "source": [
    "def swap(i,j,array):\n",
    "    array[i],array[j]=array[j],array[i]\n",
    "    \n",
    "def insSort(array):\n",
    "    for i in range(1,len(array)):\n",
    "        j=i\n",
    "        while j>0 and array[j]<array[j-1]:\n",
    "            swap(j,j-1,array)\n",
    "            j-=1\n",
    "    return array\n",
    "\n",
    "insSort([22,55,88,44,1,100,34,66])"
   ]
  },
  {
   "cell_type": "markdown",
   "metadata": {},
   "source": [
    "## Merge Sort"
   ]
  },
  {
   "cell_type": "markdown",
   "metadata": {},
   "source": [
    "#### How it Works"
   ]
  },
  {
   "cell_type": "code",
   "execution_count": 24,
   "metadata": {},
   "outputs": [
    {
     "name": "stdout",
     "output_type": "stream",
     "text": [
      "Splitting... [11, 0, 14, 11, 20]\n",
      "Splitting... [11, 0]\n",
      "Splitting... [11]\n",
      "Merging...  [11]\n",
      "Splitting... [0]\n",
      "Merging...  [0]\n",
      "Merging...  [0, 11]\n",
      "Splitting... [14, 11, 20]\n",
      "Splitting... [14]\n",
      "Merging...  [14]\n",
      "Splitting... [11, 20]\n",
      "Splitting... [11]\n",
      "Merging...  [11]\n",
      "Splitting... [20]\n",
      "Merging...  [20]\n",
      "Merging...  [11, 20]\n",
      "Merging...  [11, 14, 20]\n",
      "Merging...  [0, 11, 11, 14, 20]\n"
     ]
    },
    {
     "data": {
      "text/plain": [
       "[0, 11, 11, 14, 20]"
      ]
     },
     "execution_count": 24,
     "metadata": {},
     "output_type": "execute_result"
    }
   ],
   "source": [
    "#step 1 split everything into their own group\n",
    "#step 2 from l to r merge two groups together\n",
    "#step 3 while merging place each item in the correct position of the merged group\n",
    "#step 4 do 2-3 until just 1 left\n",
    "\n",
    "from random import randint\n",
    "#using to generate 5 nums from 0 to 20\n",
    "nums=[randint(0,20) for i in range(5)]\n",
    "              \n",
    "def mergeSort(alist):\n",
    "    print(\"Splitting...\", alist)\n",
    "    \n",
    "    if len(alist)>1:\n",
    "        mid=len(alist)//2\n",
    "        lefthalf=alist[:mid]\n",
    "        righthalf=alist[mid:]\n",
    "        \n",
    "        #Recursive for splits\n",
    "        mergeSort(lefthalf)\n",
    "        mergeSort(righthalf)\n",
    "        \n",
    "        i=0#pointer for our left half\n",
    "        j=0 #right half pointer\n",
    "        k=0 #pointer for main array\n",
    "        \n",
    "        #step 2\n",
    "        while i<len(lefthalf) and j<len(righthalf):\n",
    "            if lefthalf[i]<righthalf[j]:\n",
    "                alist[k]=lefthalf[i]\n",
    "                i=i+1\n",
    "            else:\n",
    "                alist[k]=righthalf[j]\n",
    "                j+=1\n",
    "            k+=1\n",
    "            \n",
    "        #step 3\n",
    "        while i<len(lefthalf):\n",
    "            alist[k]=lefthalf[i]\n",
    "            i+=1\n",
    "            k+=1\n",
    "        while j<len(righthalf):\n",
    "            alist[k]=righthalf[j]\n",
    "            j+=1\n",
    "            k+=1 \n",
    "    print(\"Merging... \",alist)\n",
    "    return alist\n",
    "    \n",
    "mergeSort(nums)"
   ]
  },
  {
   "cell_type": "markdown",
   "metadata": {},
   "source": [
    "# Binary Search\n",
    "\n",
    "The Binary Search algorithm works by finding the number in the middle of a given array and comparing it to the target. Given that the array is sorted\n",
    "\n",
    "* The worst case run time for this algorithm is `O(log(n))`"
   ]
  },
  {
   "cell_type": "code",
   "execution_count": 29,
   "metadata": {},
   "outputs": [
    {
     "data": {
      "text/plain": [
       "'The index is 1'"
      ]
     },
     "execution_count": 29,
     "metadata": {},
     "output_type": "execute_result"
    }
   ],
   "source": [
    "#assumes inorder, cuts list in half constantly\n",
    "\n",
    "#Less=left\n",
    "#Greater=right\n",
    "\n",
    "def binHelper(array,target,left,right):\n",
    "    while left<=right:\n",
    "        middle =(left+right)//2\n",
    "        potentialMatch=array[middle]\n",
    "        if target ==potentialMatch:\n",
    "            return f\"The index is {middle}\"\n",
    "        elif target <potentialMatch:\n",
    "            right=middle-1\n",
    "        else:\n",
    "            left=middle+1\n",
    "    return -1\n",
    "            \n",
    "def binarySearch(array,target):\n",
    "    return binHelper(array,target,0,len(array)-1)\n",
    "\n",
    "binarySearch([22,44,55,66,88,100],44)"
   ]
  },
  {
   "cell_type": "markdown",
   "metadata": {},
   "source": [
    "# Exercises"
   ]
  },
  {
   "cell_type": "markdown",
   "metadata": {},
   "source": [
    "### Exercise #1 <br>\n",
    "<p>Reverse the list below in-place using an in-place algorithm.<br>For extra credit: Reverse the strings at the same time.</p>"
   ]
  },
  {
   "cell_type": "code",
   "execution_count": 35,
   "metadata": {},
   "outputs": [
    {
     "name": "stdout",
     "output_type": "stream",
     "text": [
      "['.', 'ecnetnes', 'ba', 'si', 'siht']\n"
     ]
    }
   ],
   "source": [
    "words = ['this' , 'is', 'ab',  'sentence', '.']\n",
    "\n",
    "def reverse(a_list):\n",
    "    for i in range((len(a_list)+1)//2): #floor division 5 gives 2, excludes the middle value if odd, hence the +1 to a_list\n",
    "        a_list[i], a_list[len(a_list)-i-1]=a_list[len(a_list)-i-1][::-1],a_list[i][::-1]\n",
    "    return a_list\n",
    "\n",
    "\n",
    "reverse(words)\n",
    "print(words)\n",
    "\n"
   ]
  },
  {
   "cell_type": "markdown",
   "metadata": {},
   "source": [
    "### Exercise #2 <br>\n",
    "<p>Create a function that counts how many distinct words are in the string below, then outputs a dictionary with the words as the key and the value as the amount of times that word appears in the string.<br>Should output:<br>{'a': 5,<br>\n",
    " 'abstract': 1,<br>\n",
    " 'an': 3,<br>\n",
    " 'array': 2, ... etc...</p>"
   ]
  },
  {
   "cell_type": "code",
   "execution_count": 65,
   "metadata": {},
   "outputs": [
    {
     "name": "stdout",
     "output_type": "stream",
     "text": [
      "36 unique words\n",
      "{'a': 5, 'abstract': 1, 'an': 3, 'array': 2, 'associative': 1, 'be': 1, 'buckets': 1, 'can': 2, 'compute': 1, 'computing,': 1, 'data': 2, 'desired': 1, 'found': 1, 'from': 1, 'function': 1, 'hash': 4, 'implements': 1, 'in': 1, 'index': 1, 'into': 1, 'is': 1, 'keys': 1, 'map': 2, 'of': 1, 'or': 1, 'slots': 1, 'structure': 2, 'table': 2, 'that': 1, 'the': 1, 'to': 2, 'type,': 1, 'uses': 1, 'value': 1, 'values': 1, 'which': 2}\n"
     ]
    }
   ],
   "source": [
    "a_text = 'In computing, a hash table hash map is a data structure which implements an associative array abstract data type, a structure that can map keys to values. A hash table uses a hash function to compute an index into an array of buckets or slots from which the desired value can be found'\n",
    "\n",
    "        \n",
    "def stringCounter(text):\n",
    "    unique_count=0\n",
    "    word_dict={}\n",
    "    for word in text.split():\n",
    "        word_formatted= word.replace(\",\" and \".\", \"\").lower() #Makes it so \"it\" \"It\", \"it,\" and \"it.\" are all the same word\n",
    "        try:\n",
    "            word_dict[word_formatted]+=1  #Check if it's in dictionary, if it is increment it by 1 \n",
    "        except: #otherwise increase unique count, and add it to the dictionary\n",
    "            word_dict[word_formatted]=1\n",
    "            unique_count+=1\n",
    "    \n",
    "    print(f\"{unique_count} unique words\")\n",
    "    return(dict(sorted(word_dict.items()))) #lastly a sort\n",
    "\n",
    "\n",
    "print(stringCounter(a_text))\n"
   ]
  },
  {
   "cell_type": "markdown",
   "metadata": {},
   "source": [
    "## Exercise #3\n",
    "\n",
    "Write a program to implement a Linear Search Algorithm. Also in a comment, write the Time Complexity of the following algorithm.\n",
    "\n",
    "#### Hint: Linear Searching will require searching a list for a given number. "
   ]
  },
  {
   "cell_type": "code",
   "execution_count": 23,
   "metadata": {},
   "outputs": [
    {
     "name": "stdout",
     "output_type": "stream",
     "text": [
      "1\n",
      "6\n",
      "10\n",
      "-1\n"
     ]
    }
   ],
   "source": [
    "num_lst=[1,5.2,8,-33,22,11,-100,10,-3,-15,2]\n",
    "\n",
    "def find(num_list, num_to_find):\n",
    "    for i in range(len(num_list)): #was a while with condition notfound +i, but realized the return negates the need for that\n",
    "        if num_list[i]==num_to_find:\n",
    "            return i\n",
    "    #if for has passed through with no return:\n",
    "    return -1\n",
    "\n",
    "print(find(num_lst,5.2)) #index 1, float works\n",
    "print(find(num_lst,-100)) #index 6, negative works\n",
    "print(find(num_lst,2)) #index 10, last of the list\n",
    "print(find(num_lst,17))#invalid\n",
    "\n",
    "#Time complexity of a linear search is unsurprisingly O(n) (linear), since there's one loop that scales\n",
    "\n",
    "        "
   ]
  },
  {
   "cell_type": "code",
   "execution_count": null,
   "metadata": {},
   "outputs": [],
   "source": []
  }
 ],
 "metadata": {
  "kernelspec": {
   "display_name": "Python 3 (ipykernel)",
   "language": "python",
   "name": "python3"
  },
  "language_info": {
   "codemirror_mode": {
    "name": "ipython",
    "version": 3
   },
   "file_extension": ".py",
   "mimetype": "text/x-python",
   "name": "python",
   "nbconvert_exporter": "python",
   "pygments_lexer": "ipython3",
   "version": "3.10.9"
  }
 },
 "nbformat": 4,
 "nbformat_minor": 2
}
